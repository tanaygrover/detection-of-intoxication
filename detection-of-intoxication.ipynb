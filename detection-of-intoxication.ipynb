{
  "nbformat": 4,
  "nbformat_minor": 0,
  "metadata": {
    "colab": {
      "provenance": []
    },
    "kernelspec": {
      "name": "python3",
      "display_name": "Python 3"
    },
    "language_info": {
      "name": "python"
    },
    "accelerator": "GPU"
  },
  "cells": [
    {
      "cell_type": "code",
      "execution_count": null,
      "metadata": {
        "colab": {
          "base_uri": "https://localhost:8080/"
        },
        "id": "3mOwE_-PPOmS",
        "outputId": "e345785d-806b-48ba-b353-3b1ea887e023"
      },
      "outputs": [
        {
          "output_type": "stream",
          "name": "stdout",
          "text": [
            "Mounted at /content/drive\n"
          ]
        }
      ],
      "source": [
        "from google.colab import drive\n",
        "drive.mount('/content/drive')"
      ]
    },
    {
      "cell_type": "markdown",
      "source": [
        "**Unzipping the zip file which contains the dataset**"
      ],
      "metadata": {
        "id": "wmBX5PStEjkt"
      }
    },
    {
      "cell_type": "code",
      "source": [
        "!unzip \"/content/drive/MyDrive/Intoxication-Identifier-master.zip\""
      ],
      "metadata": {
        "colab": {
          "base_uri": "https://localhost:8080/"
        },
        "id": "R0f5gXycPW3S",
        "outputId": "4ff32a0f-66ec-4875-9fee-b5bc327e71e8"
      },
      "execution_count": null,
      "outputs": [
        {
          "output_type": "stream",
          "name": "stdout",
          "text": [
            "Archive:  /content/drive/MyDrive/Intoxication-Identifier-master.zip\n",
            "adc7e15c8a46c18c3a91393bebf3e1993133f12e\n",
            "   creating: Intoxication-Identifier-master/\n",
            "   creating: Intoxication-Identifier-master/.idea/\n",
            " extracting: Intoxication-Identifier-master/.idea/.gitignore  \n",
            "   creating: Intoxication-Identifier-master/.idea/inspectionProfiles/\n",
            "  inflating: Intoxication-Identifier-master/.idea/inspectionProfiles/profiles_settings.xml  \n",
            "  inflating: Intoxication-Identifier-master/.idea/intoxication-identifier.iml  \n",
            "  inflating: Intoxication-Identifier-master/.idea/misc.xml  \n",
            "  inflating: Intoxication-Identifier-master/.idea/modules.xml  \n",
            "  inflating: Intoxication-Identifier-master/.idea/vcs.xml  \n",
            "  inflating: Intoxication-Identifier-master/LICENSE  \n",
            "  inflating: Intoxication-Identifier-master/README.md  \n",
            "   creating: Intoxication-Identifier-master/croppedImages/\n",
            "  inflating: Intoxication-Identifier-master/croppedImages/drunk01_0.jpg  \n",
            "  inflating: Intoxication-Identifier-master/croppedImages/drunk01_1.png  \n",
            "  inflating: Intoxication-Identifier-master/croppedImages/drunk01_2.png  \n",
            "  inflating: Intoxication-Identifier-master/croppedImages/drunk01_3.png  \n",
            "  inflating: Intoxication-Identifier-master/croppedImages/drunk02_0.png  \n",
            "  inflating: Intoxication-Identifier-master/croppedImages/drunk02_1.png  \n",
            "  inflating: Intoxication-Identifier-master/croppedImages/drunk02_2.png  \n",
            "  inflating: Intoxication-Identifier-master/croppedImages/drunk02_3.png  \n",
            "  inflating: Intoxication-Identifier-master/croppedImages/drunk03_0.png  \n",
            "  inflating: Intoxication-Identifier-master/croppedImages/drunk03_1.png  \n",
            "  inflating: Intoxication-Identifier-master/croppedImages/drunk03_2.png  \n",
            "  inflating: Intoxication-Identifier-master/croppedImages/drunk03_3.png  \n",
            "  inflating: Intoxication-Identifier-master/croppedImages/drunk04_0.png  \n",
            "  inflating: Intoxication-Identifier-master/croppedImages/drunk04_1.png  \n",
            "  inflating: Intoxication-Identifier-master/croppedImages/drunk04_2.png  \n",
            "  inflating: Intoxication-Identifier-master/croppedImages/drunk04_3.png  \n",
            "  inflating: Intoxication-Identifier-master/croppedImages/drunk05_0.png  \n",
            "  inflating: Intoxication-Identifier-master/croppedImages/drunk05_1.png  \n",
            "  inflating: Intoxication-Identifier-master/croppedImages/drunk05_2.png  \n",
            "  inflating: Intoxication-Identifier-master/croppedImages/drunk05_3.png  \n",
            "  inflating: Intoxication-Identifier-master/croppedImages/drunk06_0.png  \n",
            "  inflating: Intoxication-Identifier-master/croppedImages/drunk06_1.png  \n",
            "  inflating: Intoxication-Identifier-master/croppedImages/drunk06_2.png  \n",
            "  inflating: Intoxication-Identifier-master/croppedImages/drunk06_3.png  \n",
            "  inflating: Intoxication-Identifier-master/croppedImages/drunk07_0.png  \n",
            "  inflating: Intoxication-Identifier-master/croppedImages/drunk07_1.png  \n",
            "  inflating: Intoxication-Identifier-master/croppedImages/drunk07_2.png  \n",
            "  inflating: Intoxication-Identifier-master/croppedImages/drunk07_3.png  \n",
            "  inflating: Intoxication-Identifier-master/croppedImages/drunk08_0.png  \n",
            "  inflating: Intoxication-Identifier-master/croppedImages/drunk08_1.png  \n",
            "  inflating: Intoxication-Identifier-master/croppedImages/drunk08_2.png  \n",
            "  inflating: Intoxication-Identifier-master/croppedImages/drunk08_3.png  \n",
            "  inflating: Intoxication-Identifier-master/croppedImages/drunk09_0.png  \n",
            "  inflating: Intoxication-Identifier-master/croppedImages/drunk09_1.png  \n",
            "  inflating: Intoxication-Identifier-master/croppedImages/drunk09_2.png  \n",
            "  inflating: Intoxication-Identifier-master/croppedImages/drunk09_3.png  \n",
            "  inflating: Intoxication-Identifier-master/croppedImages/drunk10_0.png  \n",
            "  inflating: Intoxication-Identifier-master/croppedImages/drunk10_1.png  \n",
            "  inflating: Intoxication-Identifier-master/croppedImages/drunk10_2.png  \n",
            "  inflating: Intoxication-Identifier-master/croppedImages/drunk10_3.png  \n",
            "  inflating: Intoxication-Identifier-master/croppedImages/drunk11_0.png  \n",
            "  inflating: Intoxication-Identifier-master/croppedImages/drunk11_1.png  \n",
            "  inflating: Intoxication-Identifier-master/croppedImages/drunk11_2.png  \n",
            "  inflating: Intoxication-Identifier-master/croppedImages/drunk11_3.png  \n",
            "  inflating: Intoxication-Identifier-master/croppedImages/drunk12_0.png  \n",
            "  inflating: Intoxication-Identifier-master/croppedImages/drunk12_1.png  \n",
            "  inflating: Intoxication-Identifier-master/croppedImages/drunk12_2.png  \n",
            "  inflating: Intoxication-Identifier-master/croppedImages/drunk12_3.png  \n",
            "  inflating: Intoxication-Identifier-master/croppedImages/drunk13_0.png  \n",
            "  inflating: Intoxication-Identifier-master/croppedImages/drunk13_1.png  \n",
            "  inflating: Intoxication-Identifier-master/croppedImages/drunk13_2.png  \n",
            "  inflating: Intoxication-Identifier-master/croppedImages/drunk13_3.png  \n",
            "  inflating: Intoxication-Identifier-master/croppedImages/drunk14_0.png  \n",
            "  inflating: Intoxication-Identifier-master/croppedImages/drunk14_1.png  \n",
            "  inflating: Intoxication-Identifier-master/croppedImages/drunk14_2.png  \n",
            "  inflating: Intoxication-Identifier-master/croppedImages/drunk14_3.png  \n",
            "  inflating: Intoxication-Identifier-master/croppedImages/drunk15_0.png  \n",
            "  inflating: Intoxication-Identifier-master/croppedImages/drunk15_1.png  \n",
            "  inflating: Intoxication-Identifier-master/croppedImages/drunk15_2.png  \n",
            "  inflating: Intoxication-Identifier-master/croppedImages/drunk15_3.png  \n",
            "  inflating: Intoxication-Identifier-master/croppedImages/drunk16_0.png  \n",
            "  inflating: Intoxication-Identifier-master/croppedImages/drunk16_1.png  \n",
            "  inflating: Intoxication-Identifier-master/croppedImages/drunk16_2.png  \n",
            "  inflating: Intoxication-Identifier-master/croppedImages/drunk16_3.png  \n",
            "  inflating: Intoxication-Identifier-master/croppedImages/drunk17_0.png  \n",
            "  inflating: Intoxication-Identifier-master/croppedImages/drunk17_1.png  \n",
            "  inflating: Intoxication-Identifier-master/croppedImages/drunk17_2.png  \n",
            "  inflating: Intoxication-Identifier-master/croppedImages/drunk17_3.png  \n",
            "  inflating: Intoxication-Identifier-master/croppedImages/drunk18_0.png  \n",
            "  inflating: Intoxication-Identifier-master/croppedImages/drunk18_1.png  \n",
            "  inflating: Intoxication-Identifier-master/croppedImages/drunk18_2.png  \n",
            "  inflating: Intoxication-Identifier-master/croppedImages/drunk18_3.png  \n",
            "  inflating: Intoxication-Identifier-master/croppedImages/drunk19_0.png  \n",
            "  inflating: Intoxication-Identifier-master/croppedImages/drunk19_1.png  \n",
            "  inflating: Intoxication-Identifier-master/croppedImages/drunk19_2.png  \n",
            "  inflating: Intoxication-Identifier-master/croppedImages/drunk19_3.png  \n",
            "  inflating: Intoxication-Identifier-master/croppedImages/drunk20_0.png  \n",
            "  inflating: Intoxication-Identifier-master/croppedImages/drunk20_1.png  \n",
            "  inflating: Intoxication-Identifier-master/croppedImages/drunk20_2.png  \n",
            "  inflating: Intoxication-Identifier-master/croppedImages/drunk20_3.png  \n",
            "  inflating: Intoxication-Identifier-master/croppedImages/drunk21_0.png  \n",
            "  inflating: Intoxication-Identifier-master/croppedImages/drunk21_1.png  \n",
            "  inflating: Intoxication-Identifier-master/croppedImages/drunk21_2.png  \n",
            "  inflating: Intoxication-Identifier-master/croppedImages/drunk21_3.png  \n",
            "  inflating: Intoxication-Identifier-master/croppedImages/drunk22_0.png  \n",
            "  inflating: Intoxication-Identifier-master/croppedImages/drunk22_1.png  \n",
            "  inflating: Intoxication-Identifier-master/croppedImages/drunk22_2.png  \n",
            "  inflating: Intoxication-Identifier-master/croppedImages/drunk22_3.png  \n",
            "  inflating: Intoxication-Identifier-master/croppedImages/drunk23_0.png  \n",
            "  inflating: Intoxication-Identifier-master/croppedImages/drunk23_1.png  \n",
            "  inflating: Intoxication-Identifier-master/croppedImages/drunk23_2.png  \n",
            "  inflating: Intoxication-Identifier-master/croppedImages/drunk23_3.png  \n",
            "  inflating: Intoxication-Identifier-master/croppedImages/drunk24_0.png  \n",
            "  inflating: Intoxication-Identifier-master/croppedImages/drunk24_1.png  \n",
            "  inflating: Intoxication-Identifier-master/croppedImages/drunk24_2.png  \n",
            "  inflating: Intoxication-Identifier-master/croppedImages/drunk24_3.png  \n",
            "  inflating: Intoxication-Identifier-master/croppedImages/drunk25_0.png  \n",
            "  inflating: Intoxication-Identifier-master/croppedImages/drunk25_1.png  \n",
            "  inflating: Intoxication-Identifier-master/croppedImages/drunk25_2.png  \n",
            "  inflating: Intoxication-Identifier-master/croppedImages/drunk25_3.png  \n",
            "  inflating: Intoxication-Identifier-master/croppedImages/drunk26_0.jpg  \n",
            "  inflating: Intoxication-Identifier-master/croppedImages/drunk26_1.jpg  \n",
            "  inflating: Intoxication-Identifier-master/croppedImages/drunk26_2.jpg  \n",
            "  inflating: Intoxication-Identifier-master/croppedImages/drunk26_3.jpg  \n",
            "  inflating: Intoxication-Identifier-master/croppedImages/drunk27_0.jpg  \n",
            "  inflating: Intoxication-Identifier-master/croppedImages/drunk27_1.jpg  \n",
            "  inflating: Intoxication-Identifier-master/croppedImages/drunk27_2.jpg  \n",
            "  inflating: Intoxication-Identifier-master/croppedImages/drunk27_3.jpg  \n",
            "  inflating: Intoxication-Identifier-master/croppedImages/drunk28_0.jpg  \n",
            "  inflating: Intoxication-Identifier-master/croppedImages/drunk28_1.jpg  \n",
            "  inflating: Intoxication-Identifier-master/croppedImages/drunk28_2.jpg  \n",
            "  inflating: Intoxication-Identifier-master/croppedImages/drunk28_3.jpg  \n",
            "  inflating: Intoxication-Identifier-master/croppedImages/drunk29_0.jpg  \n",
            "  inflating: Intoxication-Identifier-master/croppedImages/drunk29_1.jpg  \n",
            "  inflating: Intoxication-Identifier-master/croppedImages/drunk29_2.jpg  \n",
            "  inflating: Intoxication-Identifier-master/croppedImages/drunk29_3.jpg  \n",
            "  inflating: Intoxication-Identifier-master/croppedImages/drunk30_0.jpg  \n",
            "  inflating: Intoxication-Identifier-master/croppedImages/drunk30_1.jpg  \n",
            "  inflating: Intoxication-Identifier-master/croppedImages/drunk30_2.jpg  \n",
            "  inflating: Intoxication-Identifier-master/croppedImages/drunk30_3.jpg  \n",
            "  inflating: Intoxication-Identifier-master/croppedImages/drunk31_0.jpg  \n",
            "  inflating: Intoxication-Identifier-master/croppedImages/drunk31_1.jpg  \n",
            "  inflating: Intoxication-Identifier-master/croppedImages/drunk31_2.jpg  \n",
            "  inflating: Intoxication-Identifier-master/croppedImages/drunk31_3.jpg  \n",
            "  inflating: Intoxication-Identifier-master/croppedImages/drunk32_0.jpg  \n",
            "  inflating: Intoxication-Identifier-master/croppedImages/drunk32_1.jpg  \n",
            "  inflating: Intoxication-Identifier-master/croppedImages/drunk32_2.jpg  \n",
            "  inflating: Intoxication-Identifier-master/croppedImages/drunk32_3.jpg  \n",
            "  inflating: Intoxication-Identifier-master/croppedImages/drunk33_0.jpg  \n",
            "  inflating: Intoxication-Identifier-master/croppedImages/drunk33_1.jpg  \n",
            "  inflating: Intoxication-Identifier-master/croppedImages/drunk33_2.jpg  \n",
            "  inflating: Intoxication-Identifier-master/croppedImages/drunk33_3.jpg  \n",
            "  inflating: Intoxication-Identifier-master/croppedImages/drunk34_0.jpg  \n",
            "  inflating: Intoxication-Identifier-master/croppedImages/drunk34_1.jpg  \n",
            "  inflating: Intoxication-Identifier-master/croppedImages/drunk34_2.jpg  \n",
            "  inflating: Intoxication-Identifier-master/croppedImages/drunk34_3.jpg  \n",
            "  inflating: Intoxication-Identifier-master/croppedImages/drunk35_0.jpg  \n",
            "  inflating: Intoxication-Identifier-master/croppedImages/drunk35_1.jpg  \n",
            "  inflating: Intoxication-Identifier-master/croppedImages/drunk35_2.jpg  \n",
            "  inflating: Intoxication-Identifier-master/croppedImages/drunk35_3.jpg  \n",
            "  inflating: Intoxication-Identifier-master/croppedImages/drunk36_0.jpg  \n",
            "  inflating: Intoxication-Identifier-master/croppedImages/drunk36_1.jpg  \n",
            "  inflating: Intoxication-Identifier-master/croppedImages/drunk36_2.jpg  \n",
            "  inflating: Intoxication-Identifier-master/croppedImages/drunk36_3.jpg  \n",
            "  inflating: Intoxication-Identifier-master/croppedImages/drunk37_0.jpg  \n",
            "  inflating: Intoxication-Identifier-master/croppedImages/drunk37_1.jpg  \n",
            "  inflating: Intoxication-Identifier-master/croppedImages/drunk37_2.jpg  \n",
            "  inflating: Intoxication-Identifier-master/croppedImages/drunk37_3.jpg  \n",
            "  inflating: Intoxication-Identifier-master/croppedImages/drunk38_0.jpg  \n",
            "  inflating: Intoxication-Identifier-master/croppedImages/drunk38_1.jpg  \n",
            "  inflating: Intoxication-Identifier-master/croppedImages/drunk38_2.jpg  \n",
            "  inflating: Intoxication-Identifier-master/croppedImages/drunk38_3.jpg  \n",
            "  inflating: Intoxication-Identifier-master/croppedImages/drunk39_0.jpg  \n",
            "  inflating: Intoxication-Identifier-master/croppedImages/drunk39_1.jpg  \n",
            "  inflating: Intoxication-Identifier-master/croppedImages/drunk39_2.jpg  \n",
            "  inflating: Intoxication-Identifier-master/croppedImages/drunk39_3.jpg  \n",
            "  inflating: Intoxication-Identifier-master/croppedImages/drunk40_0.jpg  \n",
            "  inflating: Intoxication-Identifier-master/croppedImages/drunk40_1.jpg  \n",
            "  inflating: Intoxication-Identifier-master/croppedImages/drunk40_2.jpg  \n",
            "  inflating: Intoxication-Identifier-master/croppedImages/drunk40_3.jpg  \n",
            "  inflating: Intoxication-Identifier-master/croppedImages/drunk41_0.jpg  \n",
            "  inflating: Intoxication-Identifier-master/croppedImages/drunk41_1.jpg  \n",
            "  inflating: Intoxication-Identifier-master/croppedImages/drunk41_2.jpg  \n",
            "  inflating: Intoxication-Identifier-master/croppedImages/drunk41_3.jpg  \n",
            "  inflating: Intoxication-Identifier-master/croppedImages/drunk42_0.jpg  \n",
            "  inflating: Intoxication-Identifier-master/croppedImages/drunk42_1.jpg  \n",
            "  inflating: Intoxication-Identifier-master/croppedImages/drunk42_2.jpg  \n",
            "  inflating: Intoxication-Identifier-master/croppedImages/drunk42_3.jpg  \n",
            "  inflating: Intoxication-Identifier-master/croppedImages/drunk43_0.jpg  \n",
            "  inflating: Intoxication-Identifier-master/croppedImages/drunk43_1.jpg  \n",
            "  inflating: Intoxication-Identifier-master/croppedImages/drunk43_2.jpg  \n",
            "  inflating: Intoxication-Identifier-master/croppedImages/drunk43_3.jpg  \n",
            "  inflating: Intoxication-Identifier-master/croppedImages/drunk44_0.jpg  \n",
            "  inflating: Intoxication-Identifier-master/croppedImages/drunk44_1.jpg  \n",
            "  inflating: Intoxication-Identifier-master/croppedImages/drunk44_2.jpg  \n",
            "  inflating: Intoxication-Identifier-master/croppedImages/drunk44_3.jpg  \n",
            "  inflating: Intoxication-Identifier-master/croppedImages/drunk45_0.jpg  \n",
            "  inflating: Intoxication-Identifier-master/croppedImages/drunk45_1.jpg  \n",
            "  inflating: Intoxication-Identifier-master/croppedImages/drunk45_2.jpg  \n",
            "  inflating: Intoxication-Identifier-master/croppedImages/drunk45_3.jpg  \n",
            "  inflating: Intoxication-Identifier-master/croppedImages/drunk46_0.jpg  \n",
            "  inflating: Intoxication-Identifier-master/croppedImages/drunk46_1.jpg  \n",
            "  inflating: Intoxication-Identifier-master/croppedImages/drunk46_2.jpg  \n",
            "  inflating: Intoxication-Identifier-master/croppedImages/drunk46_3.jpg  \n",
            "  inflating: Intoxication-Identifier-master/croppedImages/drunk47_0.jpg  \n",
            "  inflating: Intoxication-Identifier-master/croppedImages/drunk47_1.jpg  \n",
            "  inflating: Intoxication-Identifier-master/croppedImages/drunk47_2.jpg  \n",
            "  inflating: Intoxication-Identifier-master/croppedImages/drunk47_3.jpg  \n",
            "  inflating: Intoxication-Identifier-master/croppedImages/drunk48_0.jpg  \n",
            "  inflating: Intoxication-Identifier-master/croppedImages/drunk48_1.jpg  \n",
            "  inflating: Intoxication-Identifier-master/croppedImages/drunk48_2.jpg  \n",
            "  inflating: Intoxication-Identifier-master/croppedImages/drunk48_3.jpg  \n",
            "  inflating: Intoxication-Identifier-master/croppedImages/drunk49_0.jpg  \n",
            "  inflating: Intoxication-Identifier-master/croppedImages/drunk49_1.jpg  \n",
            "  inflating: Intoxication-Identifier-master/croppedImages/drunk49_2.jpg  \n",
            "  inflating: Intoxication-Identifier-master/croppedImages/drunk49_3.jpg  \n",
            "  inflating: Intoxication-Identifier-master/croppedImages/drunk50_0.jpg  \n",
            "  inflating: Intoxication-Identifier-master/croppedImages/drunk50_1.jpg  \n",
            "  inflating: Intoxication-Identifier-master/croppedImages/drunk50_2.jpg  \n",
            "  inflating: Intoxication-Identifier-master/croppedImages/drunk50_3.jpg  \n",
            "  inflating: Intoxication-Identifier-master/croppedImages/drunk51_0.jpg  \n",
            "  inflating: Intoxication-Identifier-master/croppedImages/drunk51_1.jpg  \n",
            "  inflating: Intoxication-Identifier-master/croppedImages/drunk51_2.jpg  \n",
            "  inflating: Intoxication-Identifier-master/croppedImages/drunk51_3.jpg  \n",
            "  inflating: Intoxication-Identifier-master/croppedImages/drunk52_0.jpg  \n",
            "  inflating: Intoxication-Identifier-master/croppedImages/drunk52_1.jpg  \n",
            "  inflating: Intoxication-Identifier-master/croppedImages/drunk52_2.jpg  \n",
            "  inflating: Intoxication-Identifier-master/croppedImages/drunk52_3.jpg  \n",
            "  inflating: Intoxication-Identifier-master/croppedImages/drunk53_0.jpg  \n",
            "  inflating: Intoxication-Identifier-master/croppedImages/drunk53_1.jpg  \n",
            "  inflating: Intoxication-Identifier-master/croppedImages/drunk53_2.jpg  \n",
            "  inflating: Intoxication-Identifier-master/croppedImages/drunk53_3.jpg  \n",
            "   creating: Intoxication-Identifier-master/drunkImages/\n",
            "  inflating: Intoxication-Identifier-master/drunkImages/drunk1.webp  \n",
            "  inflating: Intoxication-Identifier-master/drunkImages/drunk10.webp  \n",
            "  inflating: Intoxication-Identifier-master/drunkImages/drunk11.webp  \n",
            "  inflating: Intoxication-Identifier-master/drunkImages/drunk12.webp  \n",
            "  inflating: Intoxication-Identifier-master/drunkImages/drunk13.webp  \n",
            "  inflating: Intoxication-Identifier-master/drunkImages/drunk14.webp  \n",
            "  inflating: Intoxication-Identifier-master/drunkImages/drunk15.webp  \n",
            "  inflating: Intoxication-Identifier-master/drunkImages/drunk16.webp  \n",
            "  inflating: Intoxication-Identifier-master/drunkImages/drunk17.webp  \n",
            "  inflating: Intoxication-Identifier-master/drunkImages/drunk18.webp  \n",
            "  inflating: Intoxication-Identifier-master/drunkImages/drunk19.webp  \n",
            "  inflating: Intoxication-Identifier-master/drunkImages/drunk2.webp  \n",
            "  inflating: Intoxication-Identifier-master/drunkImages/drunk20.webp  \n",
            "  inflating: Intoxication-Identifier-master/drunkImages/drunk21.webp  \n",
            "  inflating: Intoxication-Identifier-master/drunkImages/drunk22.webp  \n",
            "  inflating: Intoxication-Identifier-master/drunkImages/drunk23.webp  \n",
            "  inflating: Intoxication-Identifier-master/drunkImages/drunk24.webp  \n",
            "  inflating: Intoxication-Identifier-master/drunkImages/drunk25.webp  \n",
            "  inflating: Intoxication-Identifier-master/drunkImages/drunk26.webp  \n",
            "  inflating: Intoxication-Identifier-master/drunkImages/drunk27.webp  \n",
            "  inflating: Intoxication-Identifier-master/drunkImages/drunk28.webp  \n",
            "  inflating: Intoxication-Identifier-master/drunkImages/drunk29.webp  \n",
            "  inflating: Intoxication-Identifier-master/drunkImages/drunk3.webp  \n",
            "  inflating: Intoxication-Identifier-master/drunkImages/drunk30.webp  \n",
            "  inflating: Intoxication-Identifier-master/drunkImages/drunk31.webp  \n",
            "  inflating: Intoxication-Identifier-master/drunkImages/drunk32.webp  \n",
            "  inflating: Intoxication-Identifier-master/drunkImages/drunk33.webp  \n",
            "  inflating: Intoxication-Identifier-master/drunkImages/drunk34.webp  \n",
            "  inflating: Intoxication-Identifier-master/drunkImages/drunk35.webp  \n",
            "  inflating: Intoxication-Identifier-master/drunkImages/drunk36.webp  \n",
            "  inflating: Intoxication-Identifier-master/drunkImages/drunk37.webp  \n",
            "  inflating: Intoxication-Identifier-master/drunkImages/drunk38.webp  \n",
            "  inflating: Intoxication-Identifier-master/drunkImages/drunk39.webp  \n",
            "  inflating: Intoxication-Identifier-master/drunkImages/drunk4.webp  \n",
            "  inflating: Intoxication-Identifier-master/drunkImages/drunk40.webp  \n",
            "  inflating: Intoxication-Identifier-master/drunkImages/drunk41.webp  \n",
            "  inflating: Intoxication-Identifier-master/drunkImages/drunk42.webp  \n",
            "  inflating: Intoxication-Identifier-master/drunkImages/drunk43.webp  \n",
            "  inflating: Intoxication-Identifier-master/drunkImages/drunk44.webp  \n",
            "  inflating: Intoxication-Identifier-master/drunkImages/drunk45.webp  \n",
            "  inflating: Intoxication-Identifier-master/drunkImages/drunk46.webp  \n",
            "  inflating: Intoxication-Identifier-master/drunkImages/drunk47.webp  \n",
            "  inflating: Intoxication-Identifier-master/drunkImages/drunk48.webp  \n",
            "  inflating: Intoxication-Identifier-master/drunkImages/drunk49.webp  \n",
            "  inflating: Intoxication-Identifier-master/drunkImages/drunk5.webp  \n",
            "  inflating: Intoxication-Identifier-master/drunkImages/drunk50.webp  \n",
            "  inflating: Intoxication-Identifier-master/drunkImages/drunk51.webp  \n",
            "  inflating: Intoxication-Identifier-master/drunkImages/drunk52.webp  \n",
            "  inflating: Intoxication-Identifier-master/drunkImages/drunk53.webp  \n",
            "  inflating: Intoxication-Identifier-master/drunkImages/drunk6.webp  \n",
            "  inflating: Intoxication-Identifier-master/drunkImages/drunk7.webp  \n",
            "  inflating: Intoxication-Identifier-master/drunkImages/drunk8.webp  \n",
            "  inflating: Intoxication-Identifier-master/drunkImages/drunk9.webp  \n",
            "   creating: Intoxication-Identifier-master/imageAugmentation/\n",
            "  inflating: Intoxication-Identifier-master/imageAugmentation/blurred_ImageData.npy  \n",
            "  inflating: Intoxication-Identifier-master/imageAugmentation/blurred_labels.npy  \n",
            "  inflating: Intoxication-Identifier-master/imageAugmentation/blurring.py  \n",
            "  inflating: Intoxication-Identifier-master/imageAugmentation/flipped_ImageData.npy  \n",
            "  inflating: Intoxication-Identifier-master/imageAugmentation/flipped_labels.npy  \n",
            "  inflating: Intoxication-Identifier-master/imageAugmentation/flipping.py  \n",
            "  inflating: Intoxication-Identifier-master/imageAugmentation/mirrored_ImageData.npy  \n",
            "  inflating: Intoxication-Identifier-master/imageAugmentation/mirrored_labels.npy  \n",
            "  inflating: Intoxication-Identifier-master/imageAugmentation/mirroring.py  \n",
            "   creating: Intoxication-Identifier-master/modeling/\n",
            "  inflating: Intoxication-Identifier-master/modeling/cnn.py  \n",
            "   creating: Intoxication-Identifier-master/models/\n",
            "  inflating: Intoxication-Identifier-master/models/convNN.py  \n",
            "   creating: Intoxication-Identifier-master/preprocessing/\n",
            "  inflating: Intoxication-Identifier-master/preprocessing/ImageData.npy  \n",
            "  inflating: Intoxication-Identifier-master/preprocessing/labels.npy  \n",
            "  inflating: Intoxication-Identifier-master/preprocessing/preprocessData.py  \n"
          ]
        }
      ]
    },
    {
      "cell_type": "code",
      "source": [],
      "metadata": {
        "id": "vlo4pSehObP0"
      },
      "execution_count": null,
      "outputs": []
    },
    {
      "cell_type": "markdown",
      "source": [
        "**importing modules**"
      ],
      "metadata": {
        "id": "dbay3h1vEq5L"
      }
    },
    {
      "cell_type": "code",
      "source": [
        "import numpy as np\n",
        "import tensorflow as tf\n",
        "from tensorflow.keras import models, layers\n",
        "import matplotlib.pyplot as  plt\n",
        "from PIL import Image\n",
        "from keras.preprocessing.image import ImageDataGenerator\n",
        "from keras.callbacks import ModelCheckpoint\n",
        "from tensorflow.keras.callbacks import ReduceLROnPlateau, ModelCheckpoint, EarlyStopping\n"
      ],
      "metadata": {
        "id": "JJqGWUefQG4H"
      },
      "execution_count": null,
      "outputs": []
    },
    {
      "cell_type": "code",
      "source": [
        "from tensorflow.keras.models import Model\n",
        "import matplotlib.pyplot as plt\n",
        "from numpy import asarray\n",
        "from numpy import save\n",
        "from keras.preprocessing.image import ImageDataGenerator\n",
        "from keras.callbacks import ModelCheckpoint\n",
        "from keras.models import Sequential\n",
        "from keras.layers import Dense, Conv1D, Flatten, Reshape, LSTM\n",
        "from keras.layers import Conv2D, MaxPooling2D, Dense, Flatten, Dropout\n",
        "from keras.metrics import binary_crossentropy\n",
        "from tensorflow.keras.utils import to_categorical\n",
        "from keras.layers import MaxPooling2D\n",
        "from keras.layers import Dropout\n",
        "from keras.layers import LSTM ,Reshape\n",
        "from keras.layers import Flatten, BatchNormalization\n",
        "from keras import optimizers\n",
        "from tensorflow.keras.callbacks import ReduceLROnPlateau, ModelCheckpoint, EarlyStopping\n",
        "import tensorflow as tf\n",
        "from tensorflow.keras import layers\n",
        "from sklearn.metrics import classification_report\n",
        "from sklearn.model_selection import train_test_split"
      ],
      "metadata": {
        "id": "s6uwwzIXTIh4"
      },
      "execution_count": null,
      "outputs": []
    },
    {
      "cell_type": "markdown",
      "source": [
        "**the directory in which zip while is stored on google Drive**"
      ],
      "metadata": {
        "id": "wPEqawTVEu5Z"
      }
    },
    {
      "cell_type": "code",
      "source": [
        "base = 'Intoxication-Identifier-master'"
      ],
      "metadata": {
        "id": "JFpVn-RwQvHD"
      },
      "execution_count": null,
      "outputs": []
    },
    {
      "cell_type": "markdown",
      "source": [
        "**loading the dataset and splitting it into 85% training and 15% testing**"
      ],
      "metadata": {
        "id": "I21XhnqBE3jd"
      }
    },
    {
      "cell_type": "code",
      "source": [
        "image_data = np.load(base+'/preprocessing/ImageData.npy')\n",
        "labels = np.load(base + '/preprocessing/labels.npy')\n",
        "flipped_image_data = np.load(base + '/imageAugmentation/flipped_ImageData.npy')\n",
        "flipped_labels = np.load(base + '/imageAugmentation/flipped_labels.npy')\n",
        "mirrored_image_data = np.load(base+'/imageAugmentation/mirrored_ImageData.npy')\n",
        "mirrored_labels = np.load(base+'/imageAugmentation/mirrored_labels.npy')\n",
        "blurred_image_data = np.load(base+'/imageAugmentation/blurred_ImageData.npy')\n",
        "blurred_labels = np.load(base+'/imageAugmentation/blurred_labels.npy')\n",
        "\n",
        "train_test_split = 0.85 #training percentage\n",
        "image_data_train = image_data[:int(image_data.shape[0]*(train_test_split))]\n",
        "image_data_test = image_data[int(image_data.shape[0]*train_test_split):]\n",
        "labels_train = labels[:int(labels.shape[0]*(train_test_split))]\n",
        "labels_test = labels[int(labels.shape[0]*train_test_split):]\n",
        "flipped_image_data_train = flipped_image_data[:int(flipped_image_data.shape[0]*(train_test_split))]\n",
        "flipped_image_data_test = flipped_image_data[int(flipped_image_data.shape[0]*train_test_split):]\n",
        "flipped_labels_train = flipped_labels[:int(flipped_labels.shape[0]*(train_test_split))]\n",
        "flipped_labels_test = flipped_labels[int(flipped_labels.shape[0]*train_test_split):]\n",
        "mirrored_image_data_train = mirrored_image_data[:int(mirrored_image_data.shape[0]*(train_test_split))]\n",
        "mirrored_image_data_test = mirrored_image_data[int(mirrored_image_data.shape[0]*train_test_split):]\n",
        "mirrored_labels_train = mirrored_labels[:int(mirrored_labels.shape[0]*(train_test_split))]\n",
        "mirrored_labels_test = mirrored_labels[int(mirrored_labels.shape[0]*train_test_split):]\n",
        "blurred_image_data_train = blurred_image_data[:int(blurred_image_data.shape[0]*(train_test_split))]\n",
        "blurred_image_data_test = blurred_image_data[int(blurred_image_data.shape[0]*train_test_split):]\n",
        "blurred_labels_train = blurred_labels[:int(blurred_labels.shape[0]*(train_test_split))]\n",
        "blurred_labels_test = blurred_labels[int(blurred_labels.shape[0]*train_test_split):]"
      ],
      "metadata": {
        "id": "mMn4XOPBQez9"
      },
      "execution_count": null,
      "outputs": []
    },
    {
      "cell_type": "code",
      "source": [
        "X_train = np.concatenate((image_data_train, flipped_image_data_train, mirrored_image_data_train, blurred_image_data_train), axis=0)\n",
        "X_test = np.concatenate((image_data_test, flipped_image_data_test, mirrored_image_data_test, blurred_image_data_test), axis=0)"
      ],
      "metadata": {
        "id": "18T_P6-GQnlU"
      },
      "execution_count": null,
      "outputs": []
    },
    {
      "cell_type": "code",
      "source": [
        "y_train = np.concatenate((labels_train, flipped_labels_train, mirrored_labels_train, blurred_labels_train), axis=0)\n",
        "y_test = np.concatenate((labels_test, flipped_labels_test, mirrored_labels_test, blurred_labels_test), axis=0)"
      ],
      "metadata": {
        "id": "npuh24ygROu1"
      },
      "execution_count": null,
      "outputs": []
    },
    {
      "cell_type": "code",
      "source": [],
      "metadata": {
        "id": "7iVCZFVnRQ4e"
      },
      "execution_count": null,
      "outputs": []
    },
    {
      "cell_type": "markdown",
      "source": [
        "**function train_model(..) is used for model fitting/training**\n",
        "\n",
        "**ReduceLROnPlateau is used for reducing the learning rate if the model accuracy doesnot increase**\n",
        "\n",
        "**ModelCheckpoint is used for storing the weights of the best accuracy/loss obtained while training**\n",
        "\n",
        "**EarlingStopping is used to stop the training process once the validation loss starts increasing**"
      ],
      "metadata": {
        "id": "PfhsBAHZFDo2"
      }
    },
    {
      "cell_type": "code",
      "source": [
        "def train_model(model, X_train, y_train, X_test, y_test, epochs, batch_size,model_name):\n",
        "  # Data generator\n",
        "  # #datagen = ImageDataGenerator(rotation_range = 5,\n",
        "  #                              rescale = 1./255,\n",
        "  #                              width_shift_range = 0.1,\n",
        "  #                              height_shift_range = 0.1,\n",
        "  #                              horizontal_flip = True)\n",
        "  # iteration on the training set\n",
        "  #it_train = datagen.flow(X_train, y_train, batch_size = batch_size)\n",
        "  #it_test = datagen.flow(X_test, y_test, batch_size = batch_size)\n",
        "  # path to save checkpoint\n",
        "  path_cp = base + '/weights/' + model_name + '_weights_.hdf5'\n",
        "\n",
        "  rlr = ReduceLROnPlateau(monitor = 'val_loss', factor = 0.1, patience = 3, verbose = 1,\n",
        "                                min_delta = 1e-4, min_lr = 1e-6, mode = 'min', cooldown=1)\n",
        "\n",
        "  ckp = ModelCheckpoint(path_cp,monitor = 'val_loss',\n",
        "                      verbose = 1, save_best_only = True, mode = 'min')\n",
        "\n",
        "  es = EarlyStopping(monitor = 'val_loss', min_delta = 1e-4, patience = 4, mode = 'min', restore_best_weights = True, verbose = 1)\n",
        "\n",
        "  steps = X_train.shape[0]//batch_size\n",
        "  # Fitting the model\n",
        "  history = model.fit(X_train,y_train, epochs = epochs, steps_per_epoch = steps, validation_data = (X_test,y_test), verbose = 1, callbacks = [rlr,ckp,es])\n",
        "\n",
        "  return history"
      ],
      "metadata": {
        "id": "yGd-RNpDRc7O"
      },
      "execution_count": null,
      "outputs": []
    },
    {
      "cell_type": "markdown",
      "source": [
        "**VGG19**\n",
        "\n",
        "**State of the art model pretrained model, gives 84% testing accuracy**\n",
        "\n",
        "**The weights used here are from vgg19 model trained on imagenet dataset**\n",
        "\n",
        "**The starting layers are kept trainable for weight optimization**"
      ],
      "metadata": {
        "id": "R5hA3pXEQeX6"
      }
    },
    {
      "cell_type": "code",
      "source": [
        "from tensorflow.keras.applications.vgg19 import VGG19\n",
        "\n",
        "model_train = VGG19(input_shape=(128,128,3) , weights='imagenet', include_top=False)\n",
        "\n",
        "for layer in model_train.layers:\n",
        "    layer.trainable = True\n",
        "\n",
        "x = Reshape((4*4,512))(model_train.output)\n",
        "x = Flatten()(x)\n",
        "x = Dense(256)(x)\n",
        "x = Dense(64)(x)\n",
        "prediction = Dense(2, activation='softmax')(x)\n",
        "\n",
        "# create a model object\n",
        "model3 = Model(inputs=model_train.input, outputs=prediction)\n"
      ],
      "metadata": {
        "id": "YRIlw_XyReFD"
      },
      "execution_count": null,
      "outputs": []
    },
    {
      "cell_type": "code",
      "source": [
        "model3.compile(loss='sparse_categorical_crossentropy', optimizer=tf.optimizers.Adam(learning_rate=0.0001), metrics=['acc'])"
      ],
      "metadata": {
        "id": "dNi4lKUXTLAx"
      },
      "execution_count": null,
      "outputs": []
    },
    {
      "cell_type": "code",
      "source": [
        "train_history = train_model(model3, X_train, y_train, X_test, y_test, epochs = 10, batch_size = 8, model_name='vgg19')"
      ],
      "metadata": {
        "colab": {
          "base_uri": "https://localhost:8080/"
        },
        "id": "jrwuZ5PqTsMy",
        "outputId": "497c2f6d-6853-4781-a7d0-a99a1d5ea20a"
      },
      "execution_count": null,
      "outputs": [
        {
          "output_type": "stream",
          "name": "stdout",
          "text": [
            "Epoch 1/10\n",
            "90/90 [==============================] - ETA: 0s - loss: 0.8283 - acc: 0.5292\n",
            "Epoch 1: val_loss improved from inf to 0.59951, saving model to Intoxication-Identifier-master/weights/vgg19_weights_.hdf5\n",
            "90/90 [==============================] - 9s 88ms/step - loss: 0.8283 - acc: 0.5292 - val_loss: 0.5995 - val_acc: 0.7266 - lr: 1.0000e-04\n",
            "Epoch 2/10\n",
            "90/90 [==============================] - ETA: 0s - loss: 0.6753 - acc: 0.6111\n",
            "Epoch 2: val_loss improved from 0.59951 to 0.53498, saving model to Intoxication-Identifier-master/weights/vgg19_weights_.hdf5\n",
            "90/90 [==============================] - 8s 86ms/step - loss: 0.6753 - acc: 0.6111 - val_loss: 0.5350 - val_acc: 0.8359 - lr: 1.0000e-04\n",
            "Epoch 3/10\n",
            "90/90 [==============================] - ETA: 0s - loss: 0.6031 - acc: 0.7028\n",
            "Epoch 3: val_loss did not improve from 0.53498\n",
            "90/90 [==============================] - 7s 75ms/step - loss: 0.6031 - acc: 0.7028 - val_loss: 0.5798 - val_acc: 0.6484 - lr: 1.0000e-04\n",
            "Epoch 4/10\n",
            "90/90 [==============================] - ETA: 0s - loss: 0.5888 - acc: 0.7042\n",
            "Epoch 4: val_loss improved from 0.53498 to 0.42106, saving model to Intoxication-Identifier-master/weights/vgg19_weights_.hdf5\n",
            "90/90 [==============================] - 8s 86ms/step - loss: 0.5888 - acc: 0.7042 - val_loss: 0.4211 - val_acc: 0.8047 - lr: 1.0000e-04\n",
            "Epoch 5/10\n",
            "90/90 [==============================] - ETA: 0s - loss: 0.4912 - acc: 0.7583\n",
            "Epoch 5: val_loss did not improve from 0.42106\n",
            "90/90 [==============================] - 7s 75ms/step - loss: 0.4912 - acc: 0.7583 - val_loss: 0.4548 - val_acc: 0.7422 - lr: 1.0000e-04\n",
            "Epoch 6/10\n",
            "90/90 [==============================] - ETA: 0s - loss: 0.4133 - acc: 0.8250\n",
            "Epoch 6: val_loss improved from 0.42106 to 0.39082, saving model to Intoxication-Identifier-master/weights/vgg19_weights_.hdf5\n",
            "90/90 [==============================] - 8s 87ms/step - loss: 0.4133 - acc: 0.8250 - val_loss: 0.3908 - val_acc: 0.8281 - lr: 1.0000e-04\n",
            "Epoch 7/10\n",
            "90/90 [==============================] - ETA: 0s - loss: 0.3505 - acc: 0.8403\n",
            "Epoch 7: val_loss improved from 0.39082 to 0.38705, saving model to Intoxication-Identifier-master/weights/vgg19_weights_.hdf5\n",
            "90/90 [==============================] - 8s 88ms/step - loss: 0.3505 - acc: 0.8403 - val_loss: 0.3870 - val_acc: 0.8281 - lr: 1.0000e-04\n",
            "Epoch 8/10\n",
            "90/90 [==============================] - ETA: 0s - loss: 0.2551 - acc: 0.8861\n",
            "Epoch 8: val_loss did not improve from 0.38705\n",
            "90/90 [==============================] - 7s 77ms/step - loss: 0.2551 - acc: 0.8861 - val_loss: 0.7362 - val_acc: 0.8125 - lr: 1.0000e-04\n",
            "Epoch 9/10\n",
            "90/90 [==============================] - ETA: 0s - loss: 0.2422 - acc: 0.9000\n",
            "Epoch 9: val_loss did not improve from 0.38705\n",
            "90/90 [==============================] - 7s 77ms/step - loss: 0.2422 - acc: 0.9000 - val_loss: 0.6959 - val_acc: 0.7969 - lr: 1.0000e-04\n",
            "Epoch 10/10\n",
            "90/90 [==============================] - ETA: 0s - loss: 0.1705 - acc: 0.9264\n",
            "Epoch 10: ReduceLROnPlateau reducing learning rate to 9.999999747378752e-06.\n",
            "\n",
            "Epoch 10: val_loss did not improve from 0.38705\n",
            "90/90 [==============================] - 7s 77ms/step - loss: 0.1705 - acc: 0.9264 - val_loss: 0.5622 - val_acc: 0.8359 - lr: 1.0000e-04\n"
          ]
        }
      ]
    },
    {
      "cell_type": "code",
      "source": [
        "results = model3.evaluate(X_test, y_test)\n",
        "print('\\nTesting Accuracy: {:.2f}%'.format(results[1]*100))\n",
        "\n",
        "plt.plot(train_history.history['acc'], label='accuracy')\n",
        "plt.plot(train_history.history['val_acc'], label='val_accuracy')\n",
        "plt.xlabel(\"Epoch\")\n",
        "plt.ylabel(\"Accuracy\")\n",
        "plt.legend(loc='lower right')\n",
        "plt.show()"
      ],
      "metadata": {
        "id": "jrYYxYsuTvKJ",
        "colab": {
          "base_uri": "https://localhost:8080/",
          "height": 331
        },
        "outputId": "2fe8238f-2b2e-46ce-952e-6542249d3ac1"
      },
      "execution_count": null,
      "outputs": [
        {
          "output_type": "stream",
          "name": "stdout",
          "text": [
            "4/4 [==============================] - 0s 76ms/step - loss: 0.5622 - acc: 0.8359\n",
            "\n",
            "Testing Accuracy: 83.59%\n"
          ]
        },
        {
          "output_type": "display_data",
          "data": {
            "text/plain": [
              "<Figure size 432x288 with 1 Axes>"
            ],
            "image/png": "[encoded data removed]"
          },
          "metadata": {
            "needs_background": "light"
          }
        }
      ]
    },
    {
      "cell_type": "code",
      "source": [
        "model3.save(base+\"/vgg19.h5\")"
      ],
      "metadata": {
        "id": "16tx1R5lNU2e"
      },
      "execution_count": null,
      "outputs": []
    },
    {
      "cell_type": "code",
      "source": [],
      "metadata": {
        "id": "dTvg8zpNS6q2"
      },
      "execution_count": null,
      "outputs": []
    },
    {
      "cell_type": "markdown",
      "source": [
        "**VGG16**\n",
        "\n",
        "**State of the art model pretrained model, gives 87% testing accuracy**\n",
        "\n",
        "**The weights used here are from vgg16 model trained on imagenet dataset**\n",
        "\n",
        "**The starting layers are kept trainable for weight optimization**"
      ],
      "metadata": {
        "id": "ikcVoEY3z_wB"
      }
    },
    {
      "cell_type": "code",
      "source": [
        "from tensorflow.keras.applications.vgg16 import VGG16\n",
        "\n",
        "model_train = VGG16(input_shape=(128,128,3) , weights='imagenet', include_top=False)\n",
        "\n",
        "for layer in model_train.layers:\n",
        "    layer.trainable = True\n",
        "\n",
        "x = Reshape((4*4,512))(model_train.output)\n",
        "x = Flatten()(x)\n",
        "x = Dense(256)(x)\n",
        "x = Dense(64)(x)\n",
        "prediction = Dense(2, activation='softmax')(x)\n",
        "\n",
        "# create a model object\n",
        "model4 = Model(inputs=model_train.input, outputs=prediction)\n"
      ],
      "metadata": {
        "id": "kfhkB548Z5XE"
      },
      "execution_count": null,
      "outputs": []
    },
    {
      "cell_type": "code",
      "source": [
        "model4.compile(loss='sparse_categorical_crossentropy', optimizer=tf.optimizers.Adam(learning_rate=0.0001), metrics=['acc'])"
      ],
      "metadata": {
        "id": "bB2I765GaRN8"
      },
      "execution_count": null,
      "outputs": []
    },
    {
      "cell_type": "code",
      "source": [
        "train_history = train_model(model4, X_train, y_train, X_test, y_test, epochs = 10, batch_size = 16 ,model_name='vgg16')"
      ],
      "metadata": {
        "colab": {
          "base_uri": "https://localhost:8080/"
        },
        "id": "MBa9fGa7aVDr",
        "outputId": "f8b385ac-2acb-4ea1-9ee6-0927dc66e51d"
      },
      "execution_count": null,
      "outputs": [
        {
          "output_type": "stream",
          "name": "stdout",
          "text": [
            "Epoch 1/10\n",
            "45/45 [==============================] - ETA: 0s - loss: 0.2169 - acc: 0.9222\n",
            "Epoch 1: val_loss improved from inf to 0.34182, saving model to Intoxication-Identifier-master/weights/vgg16_weights_.hdf5\n",
            "45/45 [==============================] - 5s 105ms/step - loss: 0.2169 - acc: 0.9222 - val_loss: 0.3418 - val_acc: 0.8203 - lr: 1.0000e-04\n",
            "Epoch 2/10\n",
            "45/45 [==============================] - ETA: 0s - loss: 0.1498 - acc: 0.9486\n",
            "Epoch 2: val_loss did not improve from 0.34182\n",
            "45/45 [==============================] - 4s 86ms/step - loss: 0.1498 - acc: 0.9486 - val_loss: 0.3635 - val_acc: 0.8359 - lr: 1.0000e-04\n",
            "Epoch 3/10\n",
            "45/45 [==============================] - ETA: 0s - loss: 0.0819 - acc: 0.9694\n",
            "Epoch 3: val_loss improved from 0.34182 to 0.31401, saving model to Intoxication-Identifier-master/weights/vgg16_weights_.hdf5\n",
            "45/45 [==============================] - 5s 101ms/step - loss: 0.0819 - acc: 0.9694 - val_loss: 0.3140 - val_acc: 0.8672 - lr: 1.0000e-04\n",
            "Epoch 4/10\n",
            "45/45 [==============================] - ETA: 0s - loss: 0.0942 - acc: 0.9597\n",
            "Epoch 4: val_loss did not improve from 0.31401\n",
            "45/45 [==============================] - 4s 87ms/step - loss: 0.0942 - acc: 0.9597 - val_loss: 0.5325 - val_acc: 0.8203 - lr: 1.0000e-04\n",
            "Epoch 5/10\n",
            "45/45 [==============================] - ETA: 0s - loss: 0.0713 - acc: 0.9778\n",
            "Epoch 5: val_loss did not improve from 0.31401\n",
            "45/45 [==============================] - 4s 89ms/step - loss: 0.0713 - acc: 0.9778 - val_loss: 0.5889 - val_acc: 0.8359 - lr: 1.0000e-04\n",
            "Epoch 6/10\n",
            "45/45 [==============================] - ETA: 0s - loss: 0.0199 - acc: 0.9944\n",
            "Epoch 6: ReduceLROnPlateau reducing learning rate to 9.999999747378752e-06.\n",
            "\n",
            "Epoch 6: val_loss did not improve from 0.31401\n",
            "45/45 [==============================] - 4s 87ms/step - loss: 0.0199 - acc: 0.9944 - val_loss: 0.7874 - val_acc: 0.8125 - lr: 1.0000e-04\n",
            "Epoch 7/10\n",
            "45/45 [==============================] - ETA: 0s - loss: 0.0046 - acc: 1.0000\n",
            "Epoch 7: val_loss did not improve from 0.31401\n",
            "Restoring model weights from the end of the best epoch: 3.\n",
            "45/45 [==============================] - 4s 91ms/step - loss: 0.0046 - acc: 1.0000 - val_loss: 0.7027 - val_acc: 0.8125 - lr: 1.0000e-05\n",
            "Epoch 7: early stopping\n"
          ]
        }
      ]
    },
    {
      "cell_type": "code",
      "source": [
        "results = model4.evaluate(X_test, y_test)\n",
        "print('\\nTesting Accuracy: {:.2f}%'.format(results[1]*100))\n",
        "\n",
        "plt.plot(train_history.history['acc'], label='accuracy')\n",
        "plt.plot(train_history.history['val_acc'], label='val_accuracy')\n",
        "plt.xlabel(\"Epoch\")\n",
        "plt.ylabel(\"Accuracy\")\n",
        "plt.legend(loc='lower right')\n",
        "plt.show()"
      ],
      "metadata": {
        "colab": {
          "base_uri": "https://localhost:8080/",
          "height": 331
        },
        "id": "5UX2LcqP6EW6",
        "outputId": "2e840851-bc30-4918-bcf7-d7c74d1420ec"
      },
      "execution_count": null,
      "outputs": [
        {
          "output_type": "stream",
          "name": "stdout",
          "text": [
            "4/4 [==============================] - 0s 63ms/step - loss: 0.3140 - acc: 0.8672\n",
            "\n",
            "Testing Accuracy: 86.72%\n"
          ]
        },
        {
          "output_type": "display_data",
          "data": {
            "text/plain": [
              "<Figure size 432x288 with 1 Axes>"
            ],
            "image/png": "[encoded data removed]"
          },
          "metadata": {
            "needs_background": "light"
          }
        }
      ]
    },
    {
      "cell_type": "code",
      "source": [
        "model4.save(base+\"/models_vgg16.h5\")"
      ],
      "metadata": {
        "id": "p1dw6lT6afvW"
      },
      "execution_count": null,
      "outputs": []
    },
    {
      "cell_type": "code",
      "source": [],
      "metadata": {
        "id": "D8qvt1Ug59tc"
      },
      "execution_count": null,
      "outputs": []
    },
    {
      "cell_type": "markdown",
      "source": [
        "**MOBILENET  V2**\n",
        "\n",
        " It is based on an inverted residual structure where the residual connections are between the bottleneck layers.\n",
        "\n",
        " The accuracy obtained on testing dataset is 72%"
      ],
      "metadata": {
        "id": "XAUBC8Y161Nr"
      }
    },
    {
      "cell_type": "code",
      "source": [
        "from tensorflow.keras.applications.mobilenet_v2  import MobileNetV2\n",
        "\n",
        "model_train = MobileNetV2(input_shape=(128,128,3) , weights='imagenet', include_top=False)\n",
        "\n",
        "for layer in model_train.layers:\n",
        "    layer.trainable = True\n",
        "\n",
        "x = Reshape((4*4, 1280))(model_train.output)\n",
        "x = Flatten()(x)\n",
        "x = Dense(128)(x)\n",
        "x = Dense(16)(x)\n",
        "prediction = Dense(2, activation='softmax')(x)\n",
        "\n",
        "# create a model object\n",
        "model2 = Model(inputs=model_train.input, outputs=prediction)\n"
      ],
      "metadata": {
        "id": "ScG278Bs5-Ut"
      },
      "execution_count": null,
      "outputs": []
    },
    {
      "cell_type": "code",
      "source": [
        "model2.compile(loss='sparse_categorical_crossentropy', optimizer=tf.optimizers.Adam(learning_rate=0.0001), metrics=['acc'])"
      ],
      "metadata": {
        "id": "y849e4m87ReB"
      },
      "execution_count": null,
      "outputs": []
    },
    {
      "cell_type": "code",
      "source": [
        "train_history = train_model(model2, X_train, y_train, X_test, y_test, epochs = 10, batch_size = 4,model_name='mobilenet_v2')"
      ],
      "metadata": {
        "colab": {
          "base_uri": "https://localhost:8080/"
        },
        "id": "q4AFux0_5_SM",
        "outputId": "7bd4d2f7-590e-4669-95c4-9ccb116c9aba"
      },
      "execution_count": null,
      "outputs": [
        {
          "output_type": "stream",
          "name": "stdout",
          "text": [
            "Epoch 1/10\n",
            "180/180 [==============================] - ETA: 0s - loss: 2.8149 - acc: 0.6431\n",
            "Epoch 1: val_loss improved from inf to 4.09194, saving model to Intoxication-Identifier-master/weights/mobilenet_v2_weights_.hdf5\n",
            "180/180 [==============================] - 11s 30ms/step - loss: 2.8149 - acc: 0.6431 - val_loss: 4.0919 - val_acc: 0.5625 - lr: 1.0000e-04\n",
            "Epoch 2/10\n",
            "178/180 [============================>.] - ETA: 0s - loss: 1.8424 - acc: 0.7584\n",
            "Epoch 2: val_loss did not improve from 4.09194\n",
            "180/180 [==============================] - 4s 21ms/step - loss: 1.8244 - acc: 0.7597 - val_loss: 10.2875 - val_acc: 0.5312 - lr: 1.0000e-04\n",
            "Epoch 3/10\n",
            "179/180 [============================>.] - ETA: 0s - loss: 1.1488 - acc: 0.8324\n",
            "Epoch 3: val_loss improved from 4.09194 to 3.16890, saving model to Intoxication-Identifier-master/weights/mobilenet_v2_weights_.hdf5\n",
            "180/180 [==============================] - 4s 25ms/step - loss: 1.1426 - acc: 0.8333 - val_loss: 3.1689 - val_acc: 0.5859 - lr: 1.0000e-04\n",
            "Epoch 4/10\n",
            "180/180 [==============================] - ETA: 0s - loss: 0.9956 - acc: 0.8278\n",
            "Epoch 4: val_loss did not improve from 3.16890\n",
            "180/180 [==============================] - 4s 21ms/step - loss: 0.9956 - acc: 0.8278 - val_loss: 3.4388 - val_acc: 0.6094 - lr: 1.0000e-04\n",
            "Epoch 5/10\n",
            "179/180 [============================>.] - ETA: 0s - loss: 0.4092 - acc: 0.9218\n",
            "Epoch 5: val_loss improved from 3.16890 to 2.96991, saving model to Intoxication-Identifier-master/weights/mobilenet_v2_weights_.hdf5\n",
            "180/180 [==============================] - 4s 25ms/step - loss: 0.4098 - acc: 0.9208 - val_loss: 2.9699 - val_acc: 0.6094 - lr: 1.0000e-04\n",
            "Epoch 6/10\n",
            "180/180 [==============================] - ETA: 0s - loss: 0.3875 - acc: 0.9208\n",
            "Epoch 6: val_loss improved from 2.96991 to 1.83018, saving model to Intoxication-Identifier-master/weights/mobilenet_v2_weights_.hdf5\n",
            "180/180 [==============================] - 5s 25ms/step - loss: 0.3875 - acc: 0.9208 - val_loss: 1.8302 - val_acc: 0.6641 - lr: 1.0000e-04\n",
            "Epoch 7/10\n",
            "179/180 [============================>.] - ETA: 0s - loss: 0.2196 - acc: 0.9455\n",
            "Epoch 7: val_loss did not improve from 1.83018\n",
            "180/180 [==============================] - 4s 21ms/step - loss: 0.2232 - acc: 0.9444 - val_loss: 2.0767 - val_acc: 0.6641 - lr: 1.0000e-04\n",
            "Epoch 8/10\n",
            "178/180 [============================>.] - ETA: 0s - loss: 0.3066 - acc: 0.9424\n",
            "Epoch 8: val_loss did not improve from 1.83018\n",
            "180/180 [==============================] - 4s 21ms/step - loss: 0.3033 - acc: 0.9431 - val_loss: 2.2297 - val_acc: 0.6484 - lr: 1.0000e-04\n",
            "Epoch 9/10\n",
            "179/180 [============================>.] - ETA: 0s - loss: 0.3747 - acc: 0.9330\n",
            "Epoch 9: val_loss improved from 1.83018 to 1.43892, saving model to Intoxication-Identifier-master/weights/mobilenet_v2_weights_.hdf5\n",
            "180/180 [==============================] - 4s 25ms/step - loss: 0.3726 - acc: 0.9333 - val_loss: 1.4389 - val_acc: 0.7266 - lr: 1.0000e-04\n",
            "Epoch 10/10\n",
            "180/180 [==============================] - ETA: 0s - loss: 0.2399 - acc: 0.9486\n",
            "Epoch 10: val_loss improved from 1.43892 to 1.31331, saving model to Intoxication-Identifier-master/weights/mobilenet_v2_weights_.hdf5\n",
            "180/180 [==============================] - 4s 24ms/step - loss: 0.2399 - acc: 0.9486 - val_loss: 1.3133 - val_acc: 0.7109 - lr: 1.0000e-04\n"
          ]
        }
      ]
    },
    {
      "cell_type": "code",
      "source": [
        "results = model2.evaluate(X_test, y_test)\n",
        "print('\\nTesting Accuracy: {:.2f}%'.format(results[1]*100))\n",
        "\n",
        "plt.plot(train_history.history['acc'], label='accuracy')\n",
        "plt.plot(train_history.history['val_acc'], label='val_accuracy')\n",
        "plt.xlabel(\"Epoch\")\n",
        "plt.ylabel(\"Accuracy\")\n",
        "plt.legend(loc='lower right')\n",
        "plt.show()"
      ],
      "metadata": {
        "colab": {
          "base_uri": "https://localhost:8080/",
          "height": 331
        },
        "id": "e7lR3pDM7pee",
        "outputId": "ff1f6465-e9e5-4a61-a82a-c8706aefd31a"
      },
      "execution_count": null,
      "outputs": [
        {
          "output_type": "stream",
          "name": "stdout",
          "text": [
            "4/4 [==============================] - 0s 24ms/step - loss: 1.3133 - acc: 0.7109\n",
            "\n",
            "Testing Accuracy: 71.09%\n"
          ]
        },
        {
          "output_type": "display_data",
          "data": {
            "text/plain": [
              "<Figure size 432x288 with 1 Axes>"
            ],
            "image/png": "[encoded data removed]"
          },
          "metadata": {
            "needs_background": "light"
          }
        }
      ]
    },
    {
      "cell_type": "code",
      "source": [
        "model2.save(base+\"/models_mobilenetv2.h5\")"
      ],
      "metadata": {
        "id": "xBCZhu887p7_"
      },
      "execution_count": null,
      "outputs": []
    },
    {
      "cell_type": "code",
      "source": [],
      "metadata": {
        "id": "PhD-kWITCZhS"
      },
      "execution_count": null,
      "outputs": []
    },
    {
      "cell_type": "markdown",
      "source": [
        "**RESNET 50**\n",
        "\n",
        "ResNet50 uses residual blocks which is used for linear mapping.\n",
        "\n",
        "The validation accuracy obtained for ResNet50 is 74%"
      ],
      "metadata": {
        "id": "De_Kz3oPJwI2"
      }
    },
    {
      "cell_type": "code",
      "source": [
        "from tensorflow.keras.applications.resnet50 import ResNet50\n",
        "model_train = ResNet50(input_shape=(128,128,3) , weights='imagenet', include_top=False)\n",
        "\n",
        "for layer in model_train.layers:\n",
        "    layer.trainable = False\n",
        "\n",
        "x = Reshape((4*4, 2048))(model_train.output) #reshape the output from resnet50\n",
        "x = Flatten()(x)\n",
        "x = Dense(128)(x)\n",
        "x = Dense(64)(x)\n",
        "prediction = Dense(2, activation='softmax')(x) #2 classes\n",
        "\n",
        "# create a model object\n",
        "model = Model(inputs=model_train.input, outputs=prediction)"
      ],
      "metadata": {
        "id": "gB3dc1dWCZXx"
      },
      "execution_count": null,
      "outputs": []
    },
    {
      "cell_type": "code",
      "source": [
        "model.compile(loss='sparse_categorical_crossentropy', optimizer=tf.optimizers.Adam(learning_rate=0.0001), metrics=['acc'])"
      ],
      "metadata": {
        "id": "wU8FxeOV7qSq"
      },
      "execution_count": null,
      "outputs": []
    },
    {
      "cell_type": "code",
      "source": [
        "train_history = train_model(model, X_train, y_train, X_test, y_test, epochs = 10, batch_size = 4,model_name='resnet')"
      ],
      "metadata": {
        "colab": {
          "base_uri": "https://localhost:8080/"
        },
        "id": "hKOM06vZDm7p",
        "outputId": "1e42140d-f34c-47ab-888d-ab48bdd7776c"
      },
      "execution_count": null,
      "outputs": [
        {
          "output_type": "stream",
          "name": "stdout",
          "text": [
            "Epoch 1/10\n",
            "177/180 [============================>.] - ETA: 0s - loss: 0.4598 - acc: 0.7895\n",
            "Epoch 1: val_loss improved from inf to 0.59440, saving model to Intoxication-Identifier-master/weights/resnet_weights_.hdf5\n",
            "180/180 [==============================] - 3s 18ms/step - loss: 0.4655 - acc: 0.7861 - val_loss: 0.5944 - val_acc: 0.6016 - lr: 1.0000e-04\n",
            "Epoch 2/10\n",
            "179/180 [============================>.] - ETA: 0s - loss: 0.5101 - acc: 0.7402\n",
            "Epoch 2: val_loss improved from 0.59440 to 0.53668, saving model to Intoxication-Identifier-master/weights/resnet_weights_.hdf5\n",
            "180/180 [==============================] - 3s 18ms/step - loss: 0.5109 - acc: 0.7403 - val_loss: 0.5367 - val_acc: 0.7969 - lr: 1.0000e-04\n",
            "Epoch 3/10\n",
            "178/180 [============================>.] - ETA: 0s - loss: 0.4347 - acc: 0.7921\n",
            "Epoch 3: val_loss improved from 0.53668 to 0.50795, saving model to Intoxication-Identifier-master/weights/resnet_weights_.hdf5\n",
            "180/180 [==============================] - 3s 17ms/step - loss: 0.4387 - acc: 0.7917 - val_loss: 0.5080 - val_acc: 0.6641 - lr: 1.0000e-04\n",
            "Epoch 4/10\n",
            "178/180 [============================>.] - ETA: 0s - loss: 0.4538 - acc: 0.7739\n",
            "Epoch 4: val_loss improved from 0.50795 to 0.48517, saving model to Intoxication-Identifier-master/weights/resnet_weights_.hdf5\n",
            "180/180 [==============================] - 3s 17ms/step - loss: 0.4559 - acc: 0.7708 - val_loss: 0.4852 - val_acc: 0.7344 - lr: 1.0000e-04\n",
            "Epoch 5/10\n",
            "179/180 [============================>.] - ETA: 0s - loss: 0.5012 - acc: 0.7556\n",
            "Epoch 5: val_loss did not improve from 0.48517\n",
            "180/180 [==============================] - 2s 14ms/step - loss: 0.5019 - acc: 0.7556 - val_loss: 0.5505 - val_acc: 0.7734 - lr: 1.0000e-04\n",
            "Epoch 6/10\n",
            "179/180 [============================>.] - ETA: 0s - loss: 0.4903 - acc: 0.7444\n",
            "Epoch 6: val_loss did not improve from 0.48517\n",
            "180/180 [==============================] - 2s 13ms/step - loss: 0.4893 - acc: 0.7458 - val_loss: 0.5097 - val_acc: 0.6562 - lr: 1.0000e-04\n",
            "Epoch 7/10\n",
            "177/180 [============================>.] - ETA: 0s - loss: 0.4308 - acc: 0.7881\n",
            "Epoch 7: ReduceLROnPlateau reducing learning rate to 9.999999747378752e-06.\n",
            "\n",
            "Epoch 7: val_loss did not improve from 0.48517\n",
            "180/180 [==============================] - 2s 14ms/step - loss: 0.4298 - acc: 0.7889 - val_loss: 0.4879 - val_acc: 0.7891 - lr: 1.0000e-04\n",
            "Epoch 8/10\n",
            "180/180 [==============================] - ETA: 0s - loss: 0.3723 - acc: 0.8306\n",
            "Epoch 8: val_loss did not improve from 0.48517\n",
            "Restoring model weights from the end of the best epoch: 4.\n",
            "180/180 [==============================] - 3s 15ms/step - loss: 0.3723 - acc: 0.8306 - val_loss: 0.5238 - val_acc: 0.6562 - lr: 1.0000e-05\n",
            "Epoch 8: early stopping\n"
          ]
        }
      ]
    },
    {
      "cell_type": "code",
      "source": [
        "results = model.evaluate(X_test, y_test)\n",
        "print('\\nTesting Accuracy: {:.2f}%'.format(results[1]*100))\n",
        "\n",
        "plt.plot(train_history.history['acc'], label='accuracy')\n",
        "plt.plot(train_history.history['val_acc'], label='val_accuracy')\n",
        "plt.xlabel(\"Epoch\")\n",
        "plt.ylabel(\"Accuracy\")\n",
        "plt.legend(loc='lower right')\n",
        "plt.show()"
      ],
      "metadata": {
        "colab": {
          "base_uri": "https://localhost:8080/",
          "height": 331
        },
        "id": "eGBt_sIVI3aS",
        "outputId": "6db5a3ee-f0e2-4d60-e8d3-3dc91feee030"
      },
      "execution_count": null,
      "outputs": [
        {
          "output_type": "stream",
          "name": "stdout",
          "text": [
            "4/4 [==============================] - 0s 52ms/step - loss: 0.4852 - acc: 0.7344\n",
            "\n",
            "Testing Accuracy: 73.44%\n"
          ]
        },
        {
          "output_type": "display_data",
          "data": {
            "text/plain": [
              "<Figure size 432x288 with 1 Axes>"
            ],
            "image/png": "[encoded data removed]"
          },
          "metadata": {
            "needs_background": "light"
          }
        }
      ]
    },
    {
      "cell_type": "code",
      "source": [
        "model.save(base+\"/models_resnet50.h5\")"
      ],
      "metadata": {
        "id": "s0vk1sR-KSpi"
      },
      "execution_count": null,
      "outputs": []
    },
    {
      "cell_type": "code",
      "source": [],
      "metadata": {
        "id": "2G2zI9XzIywv"
      },
      "execution_count": null,
      "outputs": []
    },
    {
      "cell_type": "markdown",
      "source": [
        "**LSTM ATTENTION MECHANISM**\n",
        "\n",
        "LSTM is used to remeber the output from previous state and Attention mechanism is used to give attention to only regions in an image which carries valuable information.\n",
        "\n",
        "The validation accuracy obtained is 75%."
      ],
      "metadata": {
        "id": "zrdoJXW6SDuE"
      }
    },
    {
      "cell_type": "code",
      "source": [
        "import os\n",
        "\n",
        "from tensorflow.keras import backend as K\n",
        "from tensorflow.keras.layers import Dense, Lambda, Dot, Activation, Concatenate, Layer\n",
        "\n",
        "debug_flag = int(os.environ.get('KERAS_ATTENTION_DEBUG', 0))\n",
        "\n",
        "# KERAS_ATTENTION_DEBUG: If set to 1. Will switch to debug mode.\n",
        "# In debug mode, the class Attention is no longer a Keras layer.\n",
        "# What it means in practice is that we can have access to the internal values\n",
        "# of each tensor. If we don't use debug, Keras treats the object\n",
        "# as a layer and we can only get the final output.\n",
        "class Attention(object if debug_flag else Layer):\n",
        "\n",
        "    def __init__(self, units=128, **kwargs):\n",
        "        super(Attention, self).__init__(**kwargs)\n",
        "        self.units = units\n",
        "\n",
        "    # noinspection PyAttributeOutsideInit\n",
        "    def build(self, input_shape):\n",
        "        input_dim = int(input_shape[-1])\n",
        "        with K.name_scope(self.name if not debug_flag else 'attention'):\n",
        "            self.attention_score_vec = Dense(input_dim, use_bias=False, name='attention_score_vec')\n",
        "            self.h_t = Lambda(lambda x: x[:, -1, :], output_shape=(input_dim,), name='last_hidden_state')\n",
        "            self.attention_score = Dot(axes=[1, 2], name='attention_score')\n",
        "            self.attention_weight = Activation('softmax', name='attention_weight')\n",
        "            self.context_vector = Dot(axes=[1, 1], name='context_vector')\n",
        "            self.attention_output = Concatenate(name='attention_output')\n",
        "            self.attention_vector = Dense(self.units, use_bias=False, activation='tanh', name='attention_vector')\n",
        "        if not debug_flag:\n",
        "            # debug: the call to build() is done in call().\n",
        "            super(Attention, self).build(input_shape)\n",
        "\n",
        "    def compute_output_shape(self, input_shape):\n",
        "        return input_shape[0], self.units\n",
        "\n",
        "    def __call__(self, inputs, training=None, **kwargs):\n",
        "        if debug_flag:\n",
        "            return self.call(inputs, training, **kwargs)\n",
        "        else:\n",
        "            return super(Attention, self).__call__(inputs, training, **kwargs)\n",
        "\n",
        "    # noinspection PyUnusedLocal\n",
        "    def call(self, inputs, training=None, **kwargs):\n",
        "        \"\"\"\n",
        "        Many-to-one attention mechanism for Keras.\n",
        "        @param inputs: 3D tensor with shape (batch_size, time_steps, input_dim).\n",
        "        @param training: not used in this layer.\n",
        "        @return: 2D tensor with shape (batch_size, units)\n",
        "        @author: felixhao28, philipperemy.\n",
        "        \"\"\"\n",
        "        if debug_flag:\n",
        "          # Inside dense layer\n",
        "        #              hidden_states            dot               W            =>           score_first_part\n",
        "        # (batch_size, time_steps, hidden_size) dot (hidden_size, hidden_size) => (batch_size, time_steps, hidden_size)\n",
        "        # W is the trainable weight matrix of attention Luong's multiplicative style score\n",
        "            self.build(inputs.shape)\n",
        "\n",
        "        score_first_part = self.attention_score_vec(inputs)\n",
        "        h_t = self.h_t(inputs)\n",
        "        score = self.attention_score([h_t, score_first_part])\n",
        "        attention_weights = self.attention_weight(score)\n",
        "        # (batch_size, time_steps, hidden_size) dot (batch_size, time_steps) => (batch_size, hidden_size)\n",
        "        context_vector = self.context_vector([inputs, attention_weights])\n",
        "        pre_activation = self.attention_output([context_vector, h_t])\n",
        "        attention_vector = self.attention_vector(pre_activation)\n",
        "        return attention_vector\n",
        "\n",
        "    def get_config(self):\n",
        "\n",
        "        config = super(Attention, self).get_config()\n",
        "        config.update({'units': self.units})\n",
        "        return config"
      ],
      "metadata": {
        "id": "WcRhW7IuSC49"
      },
      "execution_count": null,
      "outputs": []
    },
    {
      "cell_type": "code",
      "source": [
        "model = models.Sequential()\n",
        "model.add(layers.Conv2D(32, (3,3), activation='relu', input_shape=(128, 128, 3)))\n",
        "model.add(BatchNormalization())\n",
        "model.add(layers.MaxPooling2D(2,2))\n",
        "model.add(Dropout(0.1))\n",
        "model.add(layers.Conv2D(64, (3,3), activation='relu'))\n",
        "model.add(layers.MaxPooling2D(2,2))\n",
        "model.add(BatchNormalization())\n",
        "model.add(layers.Conv2D(128, (3,3), activation='relu'))\n",
        "model.add(Reshape((28*28, 128)))\n",
        "model.add(LSTM(64, return_sequences=True))\n",
        "model.add(Attention(units=32))\n",
        "model.add(layers.Dense(16, activation='relu'))\n",
        "model.add(layers.Dense(2, activation='softmax'))"
      ],
      "metadata": {
        "id": "EZJNeoMrOkdY"
      },
      "execution_count": null,
      "outputs": []
    },
    {
      "cell_type": "code",
      "source": [
        "model.compile(optimizer='adam',loss=tf.keras.losses.SparseCategoricalCrossentropy(from_logits=False),metrics=['accuracy'])\n",
        "training_history = model.fit(X_train, y_train, epochs=20, validation_data=(X_test, y_test))"
      ],
      "metadata": {
        "colab": {
          "base_uri": "https://localhost:8080/"
        },
        "id": "Zsq4lAJKgH0R",
        "outputId": "e6bd6e2e-827e-4820-82bd-c1c038a06920"
      },
      "execution_count": null,
      "outputs": [
        {
          "output_type": "stream",
          "name": "stdout",
          "text": [
            "Epoch 1/20\n",
            "23/23 [==============================] - 4s 81ms/step - loss: 0.7294 - accuracy: 0.4681 - val_loss: 0.6907 - val_accuracy: 0.5469\n",
            "Epoch 2/20\n",
            "23/23 [==============================] - 1s 50ms/step - loss: 0.6938 - accuracy: 0.5125 - val_loss: 0.6938 - val_accuracy: 0.4922\n",
            "Epoch 3/20\n",
            "23/23 [==============================] - 1s 50ms/step - loss: 0.6893 - accuracy: 0.5542 - val_loss: 0.6899 - val_accuracy: 0.5312\n",
            "Epoch 4/20\n",
            "23/23 [==============================] - 1s 50ms/step - loss: 0.6859 - accuracy: 0.5542 - val_loss: 0.6916 - val_accuracy: 0.5312\n",
            "Epoch 5/20\n",
            "23/23 [==============================] - 1s 50ms/step - loss: 0.6813 - accuracy: 0.5611 - val_loss: 0.6894 - val_accuracy: 0.5312\n",
            "Epoch 6/20\n",
            "23/23 [==============================] - 1s 50ms/step - loss: 0.6589 - accuracy: 0.6278 - val_loss: 0.6913 - val_accuracy: 0.5312\n",
            "Epoch 7/20\n",
            "23/23 [==============================] - 1s 65ms/step - loss: 0.6368 - accuracy: 0.6583 - val_loss: 0.7058 - val_accuracy: 0.5312\n",
            "Epoch 8/20\n",
            "23/23 [==============================] - 1s 49ms/step - loss: 0.5942 - accuracy: 0.6972 - val_loss: 0.8190 - val_accuracy: 0.5312\n",
            "Epoch 9/20\n",
            "23/23 [==============================] - 1s 50ms/step - loss: 0.5695 - accuracy: 0.7028 - val_loss: 0.7761 - val_accuracy: 0.5312\n",
            "Epoch 10/20\n",
            "23/23 [==============================] - 1s 50ms/step - loss: 0.5240 - accuracy: 0.7611 - val_loss: 0.8210 - val_accuracy: 0.5312\n",
            "Epoch 11/20\n",
            "23/23 [==============================] - 1s 50ms/step - loss: 0.4529 - accuracy: 0.7861 - val_loss: 0.9001 - val_accuracy: 0.5312\n",
            "Epoch 12/20\n",
            "23/23 [==============================] - 1s 50ms/step - loss: 0.3946 - accuracy: 0.8069 - val_loss: 1.0190 - val_accuracy: 0.5312\n",
            "Epoch 13/20\n",
            "23/23 [==============================] - 1s 54ms/step - loss: 0.3557 - accuracy: 0.8528 - val_loss: 0.7320 - val_accuracy: 0.5391\n",
            "Epoch 14/20\n",
            "23/23 [==============================] - 1s 51ms/step - loss: 0.3178 - accuracy: 0.8542 - val_loss: 0.6964 - val_accuracy: 0.4844\n",
            "Epoch 15/20\n",
            "23/23 [==============================] - 1s 50ms/step - loss: 0.2415 - accuracy: 0.8986 - val_loss: 0.6749 - val_accuracy: 0.5625\n",
            "Epoch 16/20\n",
            "23/23 [==============================] - 1s 50ms/step - loss: 0.1960 - accuracy: 0.9417 - val_loss: 0.6665 - val_accuracy: 0.6016\n",
            "Epoch 17/20\n",
            "23/23 [==============================] - 1s 51ms/step - loss: 0.1566 - accuracy: 0.9389 - val_loss: 0.8145 - val_accuracy: 0.5469\n",
            "Epoch 18/20\n",
            "23/23 [==============================] - 1s 50ms/step - loss: 0.1984 - accuracy: 0.9236 - val_loss: 0.7909 - val_accuracy: 0.6250\n",
            "Epoch 19/20\n",
            "23/23 [==============================] - 1s 51ms/step - loss: 0.2648 - accuracy: 0.9014 - val_loss: 0.7220 - val_accuracy: 0.6562\n",
            "Epoch 20/20\n",
            "23/23 [==============================] - 1s 50ms/step - loss: 0.1563 - accuracy: 0.9444 - val_loss: 0.5922 - val_accuracy: 0.7500\n"
          ]
        }
      ]
    },
    {
      "cell_type": "code",
      "source": [
        "results = model.evaluate(X_test, y_test)\n",
        "print('\\nTesting Accuracy: {:.2f}%'.format(results[1]*100))\n",
        "plt.plot(training_history.history['accuracy'], label='accuracy')\n",
        "plt.plot(training_history.history['val_accuracy'], label='val_accuracy')\n",
        "plt.xlabel(\"Epoch\")\n",
        "plt.ylabel(\"Accuracy\")\n",
        "plt.legend(loc='lower right')\n",
        "plt.show()"
      ],
      "metadata": {
        "colab": {
          "base_uri": "https://localhost:8080/",
          "height": 331
        },
        "id": "JVXBnxKSgINI",
        "outputId": "4a681fd5-4a9a-4f49-c0ec-122b27aa8aff"
      },
      "execution_count": null,
      "outputs": [
        {
          "output_type": "stream",
          "name": "stdout",
          "text": [
            "4/4 [==============================] - 0s 38ms/step - loss: 0.5922 - accuracy: 0.7500\n",
            "\n",
            "Testing Accuracy: 75.00%\n"
          ]
        },
        {
          "output_type": "display_data",
          "data": {
            "text/plain": [
              "<Figure size 432x288 with 1 Axes>"
            ],
            "image/png": "[encoded data removed]"
          },
          "metadata": {
            "needs_background": "light"
          }
        }
      ]
    },
    {
      "cell_type": "code",
      "source": [],
      "metadata": {
        "id": "11xnBx_gj1oB"
      },
      "execution_count": null,
      "outputs": []
    },
    {
      "cell_type": "markdown",
      "source": [
        "**YOUR MODEL**"
      ],
      "metadata": {
        "id": "AhMIMP-BOggH"
      }
    },
    {
      "cell_type": "code",
      "source": [
        "model = models.Sequential()\n",
        "model.add(layers.Conv2D(32, (3,3), activation='relu', input_shape=(128, 128, 3)))\n",
        "model.add(layers.MaxPool2D(2,2))\n",
        "model.add(layers.Conv2D(64, (3,3), activation='relu'))\n",
        "model.add(layers.MaxPool2D(2,2))\n",
        "model.add(layers.Conv2D(128, (3,3), activation='relu'))\n",
        "model.add(layers.MaxPool2D(2,2))\n",
        "model.add(layers.Conv2D(128, (3,3), activation='relu'))\n",
        "model.add(layers.Flatten())\n",
        "model.add(layers.Dense(64, activation='relu'))\n",
        "model.add(layers.Dropout(0.1))\n",
        "model.add(layers.Dense(16, activation='relu'))\n",
        "model.add(layers.Dense(2, activation='softmax'))\n",
        "\n",
        "model.compile(optimizer='adam',\n",
        "              loss=tf.keras.losses.SparseCategoricalCrossentropy(from_logits=False),\n",
        "              metrics=['accuracy'])\n",
        "training_history = model.fit(X_train, y_train, epochs=20, validation_data=(X_test, y_test))\n",
        "predictions = model.predict(X_test)\n",
        "error = []\n",
        "for i in range(predictions.shape[0]):\n",
        "    if y_test[i] == 1:\n",
        "        error.append(1 - predictions[i][1])\n",
        "    else:\n",
        "        error.append(1 - predictions[i][0])\n",
        "# for i in range(len(error)):\n",
        "#     if error[i] > 0.5:\n",
        "#         array = X_test[i]\n",
        "#         img = Image.fromarray(array, 'RGB')\n",
        "#         img.show()\n",
        "results = model.evaluate(X_test, y_test)\n",
        "print('\\nTesting Accuracy: {:.2f}%'.format(results[1]*100))\n",
        "\n",
        "plt.plot(training_history.history['accuracy'], label='accuracy')\n",
        "plt.plot(training_history.history['val_accuracy'], label='val_accuracy')\n",
        "plt.xlabel(\"Epoch\")\n",
        "plt.ylabel(\"Accuracy\")\n",
        "plt.legend(loc='lower right')\n",
        "plt.show()\n"
      ],
      "metadata": {
        "colab": {
          "base_uri": "https://localhost:8080/",
          "height": 1000
        },
        "id": "P4wAzT5OoBwS",
        "outputId": "30491678-2a3e-4fa4-e1b8-5fb68532d559"
      },
      "execution_count": null,
      "outputs": [
        {
          "output_type": "stream",
          "name": "stdout",
          "text": [
            "Epoch 1/20\n",
            "23/23 [==============================] - 1s 32ms/step - loss: 0.7106 - accuracy: 0.4806 - val_loss: 0.6937 - val_accuracy: 0.4688\n",
            "Epoch 2/20\n",
            "23/23 [==============================] - 1s 22ms/step - loss: 0.6946 - accuracy: 0.5069 - val_loss: 0.6968 - val_accuracy: 0.4688\n",
            "Epoch 3/20\n",
            "23/23 [==============================] - 1s 22ms/step - loss: 0.6944 - accuracy: 0.5125 - val_loss: 0.6927 - val_accuracy: 0.5312\n",
            "Epoch 4/20\n",
            "23/23 [==============================] - 1s 23ms/step - loss: 0.6933 - accuracy: 0.4972 - val_loss: 0.6928 - val_accuracy: 0.5312\n",
            "Epoch 5/20\n",
            "23/23 [==============================] - 1s 22ms/step - loss: 0.6933 - accuracy: 0.4931 - val_loss: 0.6932 - val_accuracy: 0.4688\n",
            "Epoch 6/20\n",
            "23/23 [==============================] - 1s 23ms/step - loss: 0.6921 - accuracy: 0.5278 - val_loss: 0.6932 - val_accuracy: 0.5312\n",
            "Epoch 7/20\n",
            "23/23 [==============================] - 1s 22ms/step - loss: 0.6898 - accuracy: 0.5111 - val_loss: 0.6889 - val_accuracy: 0.6172\n",
            "Epoch 8/20\n",
            "23/23 [==============================] - 1s 22ms/step - loss: 0.6638 - accuracy: 0.6250 - val_loss: 0.6578 - val_accuracy: 0.6328\n",
            "Epoch 9/20\n",
            "23/23 [==============================] - 1s 23ms/step - loss: 0.6281 - accuracy: 0.6556 - val_loss: 0.6018 - val_accuracy: 0.6953\n",
            "Epoch 10/20\n",
            "23/23 [==============================] - 1s 23ms/step - loss: 0.5910 - accuracy: 0.6750 - val_loss: 0.5839 - val_accuracy: 0.6719\n",
            "Epoch 11/20\n",
            "23/23 [==============================] - 1s 22ms/step - loss: 0.5528 - accuracy: 0.7139 - val_loss: 0.4693 - val_accuracy: 0.8047\n",
            "Epoch 12/20\n",
            "23/23 [==============================] - 1s 23ms/step - loss: 0.5036 - accuracy: 0.7472 - val_loss: 0.5650 - val_accuracy: 0.6719\n",
            "Epoch 13/20\n",
            "23/23 [==============================] - 1s 22ms/step - loss: 0.5005 - accuracy: 0.7514 - val_loss: 0.4660 - val_accuracy: 0.7656\n",
            "Epoch 14/20\n",
            "23/23 [==============================] - 1s 23ms/step - loss: 0.4411 - accuracy: 0.7986 - val_loss: 0.4209 - val_accuracy: 0.8359\n",
            "Epoch 15/20\n",
            "23/23 [==============================] - 1s 23ms/step - loss: 0.4144 - accuracy: 0.8069 - val_loss: 0.4118 - val_accuracy: 0.8125\n",
            "Epoch 16/20\n",
            "23/23 [==============================] - 1s 22ms/step - loss: 0.3583 - accuracy: 0.8181 - val_loss: 0.3735 - val_accuracy: 0.7578\n",
            "Epoch 17/20\n",
            "23/23 [==============================] - 1s 23ms/step - loss: 0.2777 - accuracy: 0.8736 - val_loss: 0.3783 - val_accuracy: 0.8047\n",
            "Epoch 18/20\n",
            "23/23 [==============================] - 1s 22ms/step - loss: 0.2647 - accuracy: 0.8764 - val_loss: 0.6862 - val_accuracy: 0.7031\n",
            "Epoch 19/20\n",
            "23/23 [==============================] - 1s 23ms/step - loss: 0.2226 - accuracy: 0.9014 - val_loss: 0.5698 - val_accuracy: 0.7266\n",
            "Epoch 20/20\n",
            "23/23 [==============================] - 1s 23ms/step - loss: 0.1686 - accuracy: 0.9458 - val_loss: 0.8784 - val_accuracy: 0.6875\n",
            "4/4 [==============================] - 0s 8ms/step\n",
            "4/4 [==============================] - 0s 10ms/step - loss: 0.8784 - accuracy: 0.6875\n",
            "\n",
            "Testing Accuracy: 68.75%\n"
          ]
        },
        {
          "output_type": "display_data",
          "data": {
            "text/plain": [
              "<Figure size 432x288 with 1 Axes>"
            ],
            "image/png": "[encoded data removed]"
          },
          "metadata": {
            "needs_background": "light"
          }
        }
      ]
    },
    {
      "cell_type": "code",
      "source": [],
      "metadata": {
        "id": "PdpMcqkNoJ8S"
      },
      "execution_count": null,
      "outputs": []
    }
  ]
}